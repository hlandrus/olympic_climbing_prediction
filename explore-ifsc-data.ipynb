{
 "cells": [
  {
   "cell_type": "code",
   "execution_count": 1,
   "metadata": {},
   "outputs": [],
   "source": [
    "import pandas as pd\n",
    "import numpy as np\n",
    "pd.options.mode.chained_assignment = None\n",
    "\n",
    "import calendar, datetime, math\n",
    "import seaborn as sns\n",
    "\n",
    "# This file contains all the data processing needed for this model\n",
    "import data_processing\n",
    "\n",
    "from sklearn.model_selection import train_test_split\n",
    "from sklearn.linear_model import LinearRegression\n",
    "from sklearn.neural_network import MLPRegressor\n",
    "from sklearn.tree import DecisionTreeRegressor\n",
    "from sklearn.metrics import dcg_score, ndcg_score\n",
    "from scipy.stats import kendalltau"
   ]
  },
  {
   "cell_type": "code",
   "execution_count": 2,
   "metadata": {},
   "outputs": [],
   "source": [
    "\"\"\"\n",
    "Dataset sourced from https://www.kaggle.com/brkurzawa/ifsc-sport-climbing-competition-results\n",
    "\"\"\"\n",
    "cr_raw = pd.read_csv('ifsc_climbing_data/combined_results.csv')\n",
    "br_raw = pd.read_csv('ifsc_climbing_data/boulder_results.csv')\n",
    "lr_raw = pd.read_csv('ifsc_climbing_data/lead_results.csv')\n",
    "sr_raw = pd.read_csv('ifsc_climbing_data/speed_results.csv')"
   ]
  },
  {
   "cell_type": "code",
   "execution_count": 3,
   "metadata": {},
   "outputs": [],
   "source": [
    "# The first dataset we will process is for all the individual disipline \n",
    "# events before the 2019 World Championship Combined Event in Hachioji.\n",
    "\n",
    "comp_date = datetime.datetime(2019, 8, 11)\n",
    "comp_name = 'IFSC Climbing World Championships Combined - Hachioji (JPN) 2019'\n",
    "\n",
    "pred_aggs = data_processing.process_data(br_raw, lr_raw, sr_raw, cr_raw, comp_date, comp_name)"
   ]
  },
  {
   "cell_type": "code",
   "execution_count": 4,
   "metadata": {},
   "outputs": [
    {
     "data": {
      "text/html": [
       "<div>\n",
       "<style scoped>\n",
       "    .dataframe tbody tr th:only-of-type {\n",
       "        vertical-align: middle;\n",
       "    }\n",
       "\n",
       "    .dataframe tbody tr th {\n",
       "        vertical-align: top;\n",
       "    }\n",
       "\n",
       "    .dataframe thead th {\n",
       "        text-align: right;\n",
       "    }\n",
       "</style>\n",
       "<table border=\"1\" class=\"dataframe\">\n",
       "  <thead>\n",
       "    <tr style=\"text-align: right;\">\n",
       "      <th></th>\n",
       "      <th>first</th>\n",
       "      <th>last</th>\n",
       "      <th>rank</th>\n",
       "      <th>gender</th>\n",
       "      <th>lead_avg_rank</th>\n",
       "      <th>boulder_avg_rank</th>\n",
       "      <th>speed_avg_rank</th>\n",
       "    </tr>\n",
       "  </thead>\n",
       "  <tbody>\n",
       "    <tr>\n",
       "      <th>20</th>\n",
       "      <td>Tomoa</td>\n",
       "      <td>NARASAKI</td>\n",
       "      <td>1</td>\n",
       "      <td>M</td>\n",
       "      <td>12.166667</td>\n",
       "      <td>4.166667</td>\n",
       "      <td>37.500000</td>\n",
       "    </tr>\n",
       "    <tr>\n",
       "      <th>21</th>\n",
       "      <td>Jakob</td>\n",
       "      <td>SCHUBERT</td>\n",
       "      <td>2</td>\n",
       "      <td>M</td>\n",
       "      <td>4.600000</td>\n",
       "      <td>14.000000</td>\n",
       "      <td>48.727273</td>\n",
       "    </tr>\n",
       "    <tr>\n",
       "      <th>22</th>\n",
       "      <td>Rishat</td>\n",
       "      <td>KHAIBULLIN</td>\n",
       "      <td>3</td>\n",
       "      <td>M</td>\n",
       "      <td>57.750000</td>\n",
       "      <td>70.333333</td>\n",
       "      <td>23.500000</td>\n",
       "    </tr>\n",
       "    <tr>\n",
       "      <th>23</th>\n",
       "      <td>Kai</td>\n",
       "      <td>HARADA</td>\n",
       "      <td>4</td>\n",
       "      <td>M</td>\n",
       "      <td>21.666667</td>\n",
       "      <td>14.750000</td>\n",
       "      <td>44.800000</td>\n",
       "    </tr>\n",
       "    <tr>\n",
       "      <th>24</th>\n",
       "      <td>Meichi</td>\n",
       "      <td>NARASAKI</td>\n",
       "      <td>5</td>\n",
       "      <td>M</td>\n",
       "      <td>15.500000</td>\n",
       "      <td>18.142857</td>\n",
       "      <td>35.166667</td>\n",
       "    </tr>\n",
       "  </tbody>\n",
       "</table>\n",
       "</div>"
      ],
      "text/plain": [
       "     first        last  rank gender  lead_avg_rank  boulder_avg_rank  \\\n",
       "20   Tomoa    NARASAKI     1      M      12.166667          4.166667   \n",
       "21   Jakob    SCHUBERT     2      M       4.600000         14.000000   \n",
       "22  Rishat  KHAIBULLIN     3      M      57.750000         70.333333   \n",
       "23     Kai      HARADA     4      M      21.666667         14.750000   \n",
       "24  Meichi    NARASAKI     5      M      15.500000         18.142857   \n",
       "\n",
       "    speed_avg_rank  \n",
       "20       37.500000  \n",
       "21       48.727273  \n",
       "22       23.500000  \n",
       "23       44.800000  \n",
       "24       35.166667  "
      ]
     },
     "execution_count": 4,
     "metadata": {},
     "output_type": "execute_result"
    }
   ],
   "source": [
    "pred_aggs[pred_aggs.gender == 'M'][['first', 'last', 'rank', 'gender', \n",
    "                                    'lead_avg_rank', 'boulder_avg_rank',\n",
    "                                    'speed_avg_rank'\n",
    "                                   ]].head()"
   ]
  },
  {
   "cell_type": "code",
   "execution_count": 5,
   "metadata": {},
   "outputs": [],
   "source": [
    "pred_aggs['rank_score'] = (20 - pred_aggs['rank'])/20"
   ]
  },
  {
   "cell_type": "code",
   "execution_count": 6,
   "metadata": {},
   "outputs": [],
   "source": [
    "max_avg_rank = pred_aggs['avg_rank_multi'].max()\n",
    "pred_aggs['avg_rank_multi_score'] = (max_avg_rank - pred_aggs['avg_rank_multi'])/max_avg_rank"
   ]
  },
  {
   "cell_type": "code",
   "execution_count": 7,
   "metadata": {},
   "outputs": [
    {
     "data": {
      "text/html": [
       "<div>\n",
       "<style scoped>\n",
       "    .dataframe tbody tr th:only-of-type {\n",
       "        vertical-align: middle;\n",
       "    }\n",
       "\n",
       "    .dataframe tbody tr th {\n",
       "        vertical-align: top;\n",
       "    }\n",
       "\n",
       "    .dataframe thead th {\n",
       "        text-align: right;\n",
       "    }\n",
       "</style>\n",
       "<table border=\"1\" class=\"dataframe\">\n",
       "  <thead>\n",
       "    <tr style=\"text-align: right;\">\n",
       "      <th></th>\n",
       "      <th>first</th>\n",
       "      <th>last</th>\n",
       "      <th>rank</th>\n",
       "      <th>gender</th>\n",
       "      <th>lead_avg_rank</th>\n",
       "      <th>boulder_avg_rank</th>\n",
       "      <th>speed_avg_rank</th>\n",
       "      <th>avg_rank_multi</th>\n",
       "      <th>rank_score</th>\n",
       "      <th>avg_rank_multi_score</th>\n",
       "    </tr>\n",
       "  </thead>\n",
       "  <tbody>\n",
       "    <tr>\n",
       "      <th>37</th>\n",
       "      <td>Adam</td>\n",
       "      <td>ONDRA</td>\n",
       "      <td>18</td>\n",
       "      <td>M</td>\n",
       "      <td>2.333333</td>\n",
       "      <td>6.833333</td>\n",
       "      <td>72.000000</td>\n",
       "      <td>1148.000000</td>\n",
       "      <td>0.10</td>\n",
       "      <td>0.991463</td>\n",
       "    </tr>\n",
       "    <tr>\n",
       "      <th>20</th>\n",
       "      <td>Tomoa</td>\n",
       "      <td>NARASAKI</td>\n",
       "      <td>1</td>\n",
       "      <td>M</td>\n",
       "      <td>12.166667</td>\n",
       "      <td>4.166667</td>\n",
       "      <td>37.500000</td>\n",
       "      <td>1901.041667</td>\n",
       "      <td>0.95</td>\n",
       "      <td>0.985863</td>\n",
       "    </tr>\n",
       "    <tr>\n",
       "      <th>21</th>\n",
       "      <td>Jakob</td>\n",
       "      <td>SCHUBERT</td>\n",
       "      <td>2</td>\n",
       "      <td>M</td>\n",
       "      <td>4.600000</td>\n",
       "      <td>14.000000</td>\n",
       "      <td>48.727273</td>\n",
       "      <td>3138.036364</td>\n",
       "      <td>0.90</td>\n",
       "      <td>0.976664</td>\n",
       "    </tr>\n",
       "    <tr>\n",
       "      <th>25</th>\n",
       "      <td>Kokoro</td>\n",
       "      <td>FUJII</td>\n",
       "      <td>6</td>\n",
       "      <td>M</td>\n",
       "      <td>12.142857</td>\n",
       "      <td>8.428571</td>\n",
       "      <td>38.083333</td>\n",
       "      <td>3897.712585</td>\n",
       "      <td>0.70</td>\n",
       "      <td>0.971015</td>\n",
       "    </tr>\n",
       "    <tr>\n",
       "      <th>39</th>\n",
       "      <td>Jongwon</td>\n",
       "      <td>CHON</td>\n",
       "      <td>20</td>\n",
       "      <td>M</td>\n",
       "      <td>27.000000</td>\n",
       "      <td>6.769231</td>\n",
       "      <td>53.714286</td>\n",
       "      <td>9817.318681</td>\n",
       "      <td>0.00</td>\n",
       "      <td>0.926994</td>\n",
       "    </tr>\n",
       "  </tbody>\n",
       "</table>\n",
       "</div>"
      ],
      "text/plain": [
       "      first      last  rank gender  lead_avg_rank  boulder_avg_rank  \\\n",
       "37     Adam     ONDRA    18      M       2.333333          6.833333   \n",
       "20    Tomoa  NARASAKI     1      M      12.166667          4.166667   \n",
       "21    Jakob  SCHUBERT     2      M       4.600000         14.000000   \n",
       "25   Kokoro     FUJII     6      M      12.142857          8.428571   \n",
       "39  Jongwon      CHON    20      M      27.000000          6.769231   \n",
       "\n",
       "    speed_avg_rank  avg_rank_multi  rank_score  avg_rank_multi_score  \n",
       "37       72.000000     1148.000000        0.10              0.991463  \n",
       "20       37.500000     1901.041667        0.95              0.985863  \n",
       "21       48.727273     3138.036364        0.90              0.976664  \n",
       "25       38.083333     3897.712585        0.70              0.971015  \n",
       "39       53.714286     9817.318681        0.00              0.926994  "
      ]
     },
     "execution_count": 7,
     "metadata": {},
     "output_type": "execute_result"
    }
   ],
   "source": [
    "pred_aggs[pred_aggs.gender == 'M'][['first', 'last', 'rank', 'gender', \n",
    "                                    'lead_avg_rank', 'boulder_avg_rank',\n",
    "                                    'speed_avg_rank', 'avg_rank_multi', \n",
    "                                    'rank_score', 'avg_rank_multi_score'\n",
    "                                   ]].sort_values('avg_rank_multi').head()"
   ]
  },
  {
   "cell_type": "code",
   "execution_count": 8,
   "metadata": {},
   "outputs": [
    {
     "data": {
      "text/html": [
       "<div>\n",
       "<style scoped>\n",
       "    .dataframe tbody tr th:only-of-type {\n",
       "        vertical-align: middle;\n",
       "    }\n",
       "\n",
       "    .dataframe tbody tr th {\n",
       "        vertical-align: top;\n",
       "    }\n",
       "\n",
       "    .dataframe thead th {\n",
       "        text-align: right;\n",
       "    }\n",
       "</style>\n",
       "<table border=\"1\" class=\"dataframe\">\n",
       "  <thead>\n",
       "    <tr style=\"text-align: right;\">\n",
       "      <th></th>\n",
       "      <th>first</th>\n",
       "      <th>last</th>\n",
       "      <th>rank</th>\n",
       "      <th>gender</th>\n",
       "      <th>lead_avg_rank</th>\n",
       "      <th>boulder_avg_rank</th>\n",
       "      <th>speed_avg_rank</th>\n",
       "      <th>avg_rank_multi</th>\n",
       "      <th>rank_score</th>\n",
       "      <th>avg_rank_multi_score</th>\n",
       "    </tr>\n",
       "  </thead>\n",
       "  <tbody>\n",
       "    <tr>\n",
       "      <th>0</th>\n",
       "      <td>Janja</td>\n",
       "      <td>GARNBRET</td>\n",
       "      <td>1</td>\n",
       "      <td>F</td>\n",
       "      <td>2.181818</td>\n",
       "      <td>1.100000</td>\n",
       "      <td>34.888889</td>\n",
       "      <td>83.733333</td>\n",
       "      <td>0.95</td>\n",
       "      <td>0.999377</td>\n",
       "    </tr>\n",
       "    <tr>\n",
       "      <th>1</th>\n",
       "      <td>Akiyo</td>\n",
       "      <td>NOGUCHI</td>\n",
       "      <td>2</td>\n",
       "      <td>F</td>\n",
       "      <td>5.375000</td>\n",
       "      <td>2.307692</td>\n",
       "      <td>35.461538</td>\n",
       "      <td>439.859467</td>\n",
       "      <td>0.90</td>\n",
       "      <td>0.996729</td>\n",
       "    </tr>\n",
       "    <tr>\n",
       "      <th>4</th>\n",
       "      <td>Miho</td>\n",
       "      <td>NONAKA</td>\n",
       "      <td>5</td>\n",
       "      <td>F</td>\n",
       "      <td>14.142857</td>\n",
       "      <td>2.727273</td>\n",
       "      <td>24.111111</td>\n",
       "      <td>930.000000</td>\n",
       "      <td>0.75</td>\n",
       "      <td>0.993084</td>\n",
       "    </tr>\n",
       "    <tr>\n",
       "      <th>9</th>\n",
       "      <td>Jessica</td>\n",
       "      <td>PILZ</td>\n",
       "      <td>10</td>\n",
       "      <td>F</td>\n",
       "      <td>3.000000</td>\n",
       "      <td>10.000000</td>\n",
       "      <td>41.777778</td>\n",
       "      <td>1253.333333</td>\n",
       "      <td>0.50</td>\n",
       "      <td>0.990680</td>\n",
       "    </tr>\n",
       "    <tr>\n",
       "      <th>5</th>\n",
       "      <td>Ai</td>\n",
       "      <td>MORI</td>\n",
       "      <td>6</td>\n",
       "      <td>F</td>\n",
       "      <td>3.500000</td>\n",
       "      <td>17.000000</td>\n",
       "      <td>63.666667</td>\n",
       "      <td>3788.166667</td>\n",
       "      <td>0.70</td>\n",
       "      <td>0.971829</td>\n",
       "    </tr>\n",
       "  </tbody>\n",
       "</table>\n",
       "</div>"
      ],
      "text/plain": [
       "     first      last  rank gender  lead_avg_rank  boulder_avg_rank  \\\n",
       "0    Janja  GARNBRET     1      F       2.181818          1.100000   \n",
       "1    Akiyo   NOGUCHI     2      F       5.375000          2.307692   \n",
       "4     Miho    NONAKA     5      F      14.142857          2.727273   \n",
       "9  Jessica      PILZ    10      F       3.000000         10.000000   \n",
       "5       Ai      MORI     6      F       3.500000         17.000000   \n",
       "\n",
       "   speed_avg_rank  avg_rank_multi  rank_score  avg_rank_multi_score  \n",
       "0       34.888889       83.733333        0.95              0.999377  \n",
       "1       35.461538      439.859467        0.90              0.996729  \n",
       "4       24.111111      930.000000        0.75              0.993084  \n",
       "9       41.777778     1253.333333        0.50              0.990680  \n",
       "5       63.666667     3788.166667        0.70              0.971829  "
      ]
     },
     "execution_count": 8,
     "metadata": {},
     "output_type": "execute_result"
    }
   ],
   "source": [
    "pred_aggs[pred_aggs.gender == 'F'][['first', 'last', 'rank', 'gender', \n",
    "                                    'lead_avg_rank', 'boulder_avg_rank',\n",
    "                                    'speed_avg_rank', 'avg_rank_multi', \n",
    "                                    'rank_score', 'avg_rank_multi_score'\n",
    "                                   ]].sort_values('avg_rank_multi').head()"
   ]
  },
  {
   "cell_type": "code",
   "execution_count": 9,
   "metadata": {},
   "outputs": [
    {
     "name": "stdout",
     "output_type": "stream",
     "text": [
      "Men's NDCG All:  0.8077067072045893\n",
      "Men's NDCG Top 3:  0.59160052907239\n",
      "Men's Kendall:  0.052631578947368425\n"
     ]
    }
   ],
   "source": [
    "mens_results = np.asarray([list(pred_aggs[pred_aggs.gender == 'M']['rank_score'].values)])\n",
    "mens_avg_pred = np.asarray([list(pred_aggs[pred_aggs.gender == 'M']['avg_rank_multi_score'].values)])\n",
    "\n",
    "print(\"Men's NDCG All: \", ndcg_score(mens_results, mens_avg_pred))\n",
    "print(\"Men's NDCG Top 3: \", ndcg_score(mens_results, mens_avg_pred, 3))\n",
    "print(\"Men's Kendall: \", kendalltau(mens_results, mens_avg_pred)[0])"
   ]
  },
  {
   "cell_type": "code",
   "execution_count": 10,
   "metadata": {},
   "outputs": [
    {
     "name": "stdout",
     "output_type": "stream",
     "text": [
      "Womens's NDCG All:  0.9770159311401715\n",
      "Womens's NDCG Top 3:  0.974264436127282\n",
      "Womens's Kendall:  0.6105263157894737\n"
     ]
    }
   ],
   "source": [
    "womens_results = np.asarray([list(pred_aggs[pred_aggs.gender == 'F']['rank_score'].values)])\n",
    "womens_avg_pred = np.asarray([list(pred_aggs[pred_aggs.gender == 'F']['avg_rank_multi_score'].values)])\n",
    "\n",
    "print(\"Womens's NDCG All: \", ndcg_score(womens_results, womens_avg_pred))\n",
    "print(\"Womens's NDCG Top 3: \", ndcg_score(womens_results, womens_avg_pred, 3))\n",
    "print(\"Womens's Kendall: \", kendalltau(womens_results, womens_avg_pred)[0])"
   ]
  },
  {
   "cell_type": "code",
   "execution_count": 11,
   "metadata": {},
   "outputs": [
    {
     "name": "stdout",
     "output_type": "stream",
     "text": [
      "NDCG:  0.9789542166568036\n",
      "Kendall:  0.4319297483312999\n",
      "Number Test Examples:  10\n"
     ]
    }
   ],
   "source": [
    "feature_columns = ['lead_avg_rank', 'boulder_avg_rank', 'speed_avg_rank']\n",
    "X = pred_aggs[feature_columns]\n",
    "y = pred_aggs['rank_score']\n",
    "X_train, X_test, y_train, y_test  = train_test_split(X, y, random_state = 1)\n",
    "\n",
    "reg = LinearRegression().fit(X_train, y_train)\n",
    "\n",
    "pred_LR = np.asarray([list(reg.predict(X_test))])\n",
    "\n",
    "print(\"NDCG: \", ndcg_score(pred_LR , np.asarray([list(y_test.values)])))\n",
    "print(\"Kendall: \", kendalltau(pred_LR, np.asarray([list(y_test.values)]))[0])\n",
    "print(\"Number Test Examples: \", y_test.shape[0])"
   ]
  },
  {
   "cell_type": "code",
   "execution_count": 12,
   "metadata": {},
   "outputs": [
    {
     "name": "stdout",
     "output_type": "stream",
     "text": [
      "NDCG:  0.8378307274224305\n",
      "Kendall:  0.08989331499509895\n",
      "Number Test Examples:  10\n"
     ]
    }
   ],
   "source": [
    "X_train, X_test, y_train, y_test  = train_test_split(X, y, random_state = 10)\n",
    "\n",
    "reg = LinearRegression().fit(X_train, y_train)\n",
    "\n",
    "pred_LR = np.asarray([list(reg.predict(X_test))])\n",
    "\n",
    "print(\"NDCG: \", ndcg_score(pred_LR , np.asarray([list(y_test.values)])))\n",
    "print(\"Kendall: \", kendalltau(pred_LR, np.asarray([list(y_test.values)]))[0])\n",
    "print(\"Number Test Examples: \", y_test.shape[0])"
   ]
  },
  {
   "cell_type": "code",
   "execution_count": 13,
   "metadata": {},
   "outputs": [],
   "source": [
    "date_train = datetime.datetime(2018, 9, 16)\n",
    "comp_name_train = 'IFSC Climbing World Championships Combined - Innsbruck (AUT) 2018'\n",
    "\n",
    "pred_aggs_train = data_processing.process_data(br_raw, lr_raw, sr_raw, cr_raw, date_train, comp_name)\n",
    "pred_aggs_train['rank_score'] = (20 - pred_aggs_train['rank'])/20\n",
    "\n",
    "pred_aggs_test = pred_aggs"
   ]
  },
  {
   "cell_type": "code",
   "execution_count": 14,
   "metadata": {},
   "outputs": [],
   "source": [
    "reg_full_comp = LinearRegression().fit(pred_aggs_train[feature_columns], pred_aggs_train['rank_score'])\n",
    "\n",
    "pred_aggs_test['pred'] = reg.predict(pred_aggs_test[feature_columns])"
   ]
  },
  {
   "cell_type": "code",
   "execution_count": 15,
   "metadata": {},
   "outputs": [
    {
     "name": "stdout",
     "output_type": "stream",
     "text": [
      "Men's NDCG:  0.9422327714247841\n",
      "Men's NDCG Top 3:  0.8422170657278147\n",
      "Men's Kendall:  0.4631578947368421\n"
     ]
    }
   ],
   "source": [
    "mens_results_LR = np.asarray([list(pred_aggs_test[pred_aggs_test.gender == 'M']['rank_score'].values)])\n",
    "mens_pred_LR = np.asarray([list(pred_aggs_test[pred_aggs_test.gender == 'M']['pred'].values)])\n",
    "\n",
    "print(\"Men's NDCG: \", ndcg_score(mens_results_LR, mens_pred_LR))\n",
    "print(\"Men's NDCG Top 3: \", ndcg_score(mens_results_LR, mens_pred_LR, 3))\n",
    "print(\"Men's Kendall: \", kendalltau(mens_results_LR, mens_pred_LR)[0])"
   ]
  },
  {
   "cell_type": "code",
   "execution_count": 16,
   "metadata": {},
   "outputs": [
    {
     "name": "stdout",
     "output_type": "stream",
     "text": [
      "Womens's NDCG:  0.854810270718025\n",
      "Womens's NDCG Top 3:  0.5382981347055015\n",
      "Womens's Kendall:  0.38947368421052636\n"
     ]
    }
   ],
   "source": [
    "womens_results_LR = np.asarray([list(pred_aggs_test[pred_aggs_test.gender == 'F']['rank_score'].values)])\n",
    "womens_pred_LR = np.asarray([list(pred_aggs_test[pred_aggs_test.gender == 'F']['pred'].values)])\n",
    "\n",
    "print(\"Womens's NDCG: \", ndcg_score(womens_results_LR, womens_pred_LR))\n",
    "print(\"Womens's NDCG Top 3: \", ndcg_score(womens_results_LR, womens_pred_LR, 3))\n",
    "print(\"Womens's Kendall: \", kendalltau(womens_results_LR, womens_pred_LR)[0])"
   ]
  },
  {
   "cell_type": "code",
   "execution_count": 17,
   "metadata": {},
   "outputs": [],
   "source": [
    "full_comp_nn = MLPRegressor(random_state=1, max_iter=1000).fit(pred_aggs_train[feature_columns], pred_aggs_train['rank_score'])\n",
    "\n",
    "pred_aggs_test['pred_nn'] = full_comp_nn.predict(pred_aggs_test[feature_columns])"
   ]
  },
  {
   "cell_type": "code",
   "execution_count": 18,
   "metadata": {},
   "outputs": [
    {
     "name": "stdout",
     "output_type": "stream",
     "text": [
      "Men's NDCG:  0.6938132494686169\n",
      "Men's NDCG Top 3:  0.21997313733240445\n",
      "Men's Kendall:  -0.2947368421052632\n",
      "Womens's NDCG:  0.9611316063642132\n",
      "Womens's NDCG Top 3:  0.9518984232904415\n",
      "Womens's Kendall:  0.5684210526315789\n"
     ]
    }
   ],
   "source": [
    "mens_results_LR = np.asarray([list(pred_aggs_test[pred_aggs_test.gender == 'M']['rank_score'].values)])\n",
    "mens_pred_LR = np.asarray([list(pred_aggs_test[pred_aggs_test.gender == 'M']['pred_nn'].values)])\n",
    "\n",
    "print(\"Men's NDCG: \", ndcg_score(mens_results_LR, mens_pred_LR))\n",
    "print(\"Men's NDCG Top 3: \", ndcg_score(mens_results_LR, mens_pred_LR, 3))\n",
    "print(\"Men's Kendall: \", kendalltau(mens_results_LR, mens_pred_LR)[0])\n",
    "\n",
    "womens_results_LR = np.asarray([list(pred_aggs_test[pred_aggs_test.gender == 'F']['rank_score'].values)])\n",
    "womens_pred_LR = np.asarray([list(pred_aggs_test[pred_aggs_test.gender == 'F']['pred_nn'].values)])\n",
    "\n",
    "print(\"Womens's NDCG: \", ndcg_score(womens_results_LR, womens_pred_LR))\n",
    "print(\"Womens's NDCG Top 3: \", ndcg_score(womens_results_LR, womens_pred_LR, 3))\n",
    "print(\"Womens's Kendall: \", kendalltau(womens_results_LR, womens_pred_LR)[0])"
   ]
  },
  {
   "cell_type": "code",
   "execution_count": 19,
   "metadata": {},
   "outputs": [],
   "source": [
    "full_comp_t = DecisionTreeRegressor().fit(pred_aggs_train[feature_columns], pred_aggs_train['rank_score'])\n",
    "\n",
    "pred_aggs_test['pred_t'] = full_comp_t.predict(pred_aggs_test[feature_columns])"
   ]
  },
  {
   "cell_type": "code",
   "execution_count": 20,
   "metadata": {},
   "outputs": [
    {
     "name": "stdout",
     "output_type": "stream",
     "text": [
      "Men's NDCG:  0.7543754165394441\n",
      "Men's Kendall:  0.032626046344280464\n",
      "Womens's NDCG:  0.954841916359237\n",
      "Womens's Kendall:  0.33713581222423145\n"
     ]
    }
   ],
   "source": [
    "mens_results_LR = np.asarray([list(pred_aggs_test[pred_aggs_test.gender == 'M']['rank_score'].values)])\n",
    "mens_pred_LR = np.asarray([list(pred_aggs_test[pred_aggs_test.gender == 'M']['pred_t'].values)])\n",
    "\n",
    "print(\"Men's NDCG: \", ndcg_score(mens_results_LR, mens_pred_LR))\n",
    "print(\"Men's Kendall: \", kendalltau(mens_results_LR, mens_pred_LR)[0])\n",
    "\n",
    "womens_results_LR = np.asarray([list(pred_aggs_test[pred_aggs_test.gender == 'F']['rank_score'].values)])\n",
    "womens_pred_LR = np.asarray([list(pred_aggs_test[pred_aggs_test.gender == 'F']['pred_t'].values)])\n",
    "\n",
    "print(\"Womens's NDCG: \", ndcg_score(womens_results_LR, womens_pred_LR))\n",
    "print(\"Womens's Kendall: \", kendalltau(womens_results_LR, womens_pred_LR)[0])"
   ]
  },
  {
   "cell_type": "code",
   "execution_count": null,
   "metadata": {},
   "outputs": [],
   "source": []
  }
 ],
 "metadata": {
  "kernelspec": {
   "display_name": "Python 3",
   "language": "python",
   "name": "python3"
  },
  "language_info": {
   "codemirror_mode": {
    "name": "ipython",
    "version": 3
   },
   "file_extension": ".py",
   "mimetype": "text/x-python",
   "name": "python",
   "nbconvert_exporter": "python",
   "pygments_lexer": "ipython3",
   "version": "3.7.1"
  }
 },
 "nbformat": 4,
 "nbformat_minor": 4
}
